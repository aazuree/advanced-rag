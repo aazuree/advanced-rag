{
 "cells": [
  {
   "cell_type": "markdown",
   "metadata": {},
   "source": [
    "# Simple RAG Implementation\n",
    "\n",
    "Based on [Alfredo Deza's GitHub Repository](https://github.com/alfredodeza/learn-retrieval-augmented-generation).\n",
    "\n",
    "In this notebook we will build a simple RAG application based on a structured CSV file with wine rating. We will:\n",
    "* [Load the small dataset](#loading-the-dataset).\n",
    "* [Encode a column using vector embedding](#Encode-using-vector-embedding).\n",
    "* [**R**etrieve some of the rows based on a query using semantic similarity](#retrieve-sematically-relevant-data-based-on-users-query).\n",
    "* [**A**ugment the prompt to the LLM with the retrieved data](#augment-the-prompt-to-the-llm-with-retrieved-data).\n",
    "* [**G**enerate a reply to the user's query based on the retrieved rows](#generate-reply-to-the-users-query)."
   ]
  },
  {
   "cell_type": "markdown",
   "metadata": {},
   "source": [
    "### Visual improvements\n",
    "\n",
    "We will use [rich library](https://github.com/Textualize/rich), and `rich-theme-manager` to make the output more readable, and supress warning messages."
   ]
  },
  {
   "cell_type": "code",
   "execution_count": 3,
   "metadata": {},
   "outputs": [
    {
     "data": {
      "text/html": [
       "<pre style=\"white-space:pre;overflow-x:auto;line-height:normal;font-family:Menlo,'DejaVu Sans Mono',consolas,'Courier New',monospace\"><span style=\"font-weight: bold\"> Theme  Description       Tags  Path               </span>\n",
       " dark   Dark mode theme   dark  themes/dark.theme  \n",
       " light  Light mode theme        themes/light.theme \n",
       "</pre>\n"
      ],
      "text/plain": [
       "\u001b[1m \u001b[0m\u001b[1mTheme\u001b[0m\u001b[1m \u001b[0m\u001b[1m \u001b[0m\u001b[1mDescription     \u001b[0m\u001b[1m \u001b[0m\u001b[1m \u001b[0m\u001b[1mTags\u001b[0m\u001b[1m \u001b[0m\u001b[1m \u001b[0m\u001b[1mPath              \u001b[0m\u001b[1m \u001b[0m\n",
       " dark   Dark mode theme   dark  themes/dark.theme  \n",
       " light  Light mode theme        themes/light.theme \n"
      ]
     },
     "metadata": {},
     "output_type": "display_data"
    },
    {
     "data": {
      "text/html": [
       "<pre style=\"white-space:pre;overflow-x:auto;line-height:normal;font-family:Menlo,'DejaVu Sans Mono',consolas,'Courier New',monospace\"><span style=\"font-style: italic\">                                      Theme: dark - themes/dark.theme                                      </span>\n",
       "┌───────────────────┬───────────────┬───────┬─────────┬─────────┬────────────────┬────────────────────────┐\n",
       "│<span style=\"font-weight: bold\"> style             </span>│<span style=\"font-weight: bold\"> color         </span>│<span style=\"font-weight: bold\"> color </span>│<span style=\"font-weight: bold\"> bgcolor </span>│<span style=\"font-weight: bold\"> bgcolor </span>│<span style=\"font-weight: bold\"> attributes     </span>│<span style=\"font-weight: bold\"> example                </span>│\n",
       "├───────────────────┼───────────────┼───────┼─────────┼─────────┼────────────────┼────────────────────────┤\n",
       "│ default           │ bright_white  │ <span style=\"color: #ffffff; text-decoration-color: #ffffff\">█████</span> │ black   │ <span style=\"color: #000000; text-decoration-color: #000000\">█████  </span> │ -------------- │ <span style=\"color: #ffffff; text-decoration-color: #ffffff; background-color: #000000\">The quick brown fox...</span> │\n",
       "├───────────────────┼───────────────┼───────┼─────────┼─────────┼────────────────┼────────────────────────┤\n",
       "│ repr.attrib_name  │ #e87d3e       │ <span style=\"color: #e87d3e; text-decoration-color: #e87d3e\">█████</span> │ None    │         │ <span style=\"font-weight: bold\">b</span>------------- │ <span style=\"color: #e87d3e; text-decoration-color: #e87d3e; font-weight: bold\">The quick brown fox...</span> │\n",
       "├───────────────────┼───────────────┼───────┼─────────┼─────────┼────────────────┼────────────────────────┤\n",
       "│ repr.attrib_value │ bright_blue   │ <span style=\"color: #0000ff; text-decoration-color: #0000ff\">█████</span> │ None    │         │ -------------- │ <span style=\"color: #0000ff; text-decoration-color: #0000ff\">The quick brown fox...</span> │\n",
       "├───────────────────┼───────────────┼───────┼─────────┼─────────┼────────────────┼────────────────────────┤\n",
       "│ repr.call         │ bright_yellow │ <span style=\"color: #ffff00; text-decoration-color: #ffff00\">█████</span> │ None    │         │ -------------- │ <span style=\"color: #ffff00; text-decoration-color: #ffff00\">The quick brown fox...</span> │\n",
       "├───────────────────┼───────────────┼───────┼─────────┼─────────┼────────────────┼────────────────────────┤\n",
       "│ repr.none         │ white         │ <span style=\"color: #c0c0c0; text-decoration-color: #c0c0c0\">█████</span> │ None    │         │ -<span style=\"font-weight: bold\">d</span>------------ │ <span style=\"color: #dfdfdf; text-decoration-color: #dfdfdf\">The quick brown fox...</span> │\n",
       "├───────────────────┼───────────────┼───────┼─────────┼─────────┼────────────────┼────────────────────────┤\n",
       "│ repr.number       │ bright_red    │ <span style=\"color: #ff0000; text-decoration-color: #ff0000\">█████</span> │ None    │         │ -------------- │ <span style=\"color: #ff0000; text-decoration-color: #ff0000\">The quick brown fox...</span> │\n",
       "├───────────────────┼───────────────┼───────┼─────────┼─────────┼────────────────┼────────────────────────┤\n",
       "│ repr.own          │ #e87d3e       │ <span style=\"color: #e87d3e; text-decoration-color: #e87d3e\">█████</span> │ None    │         │ <span style=\"font-weight: bold\">b</span>------------- │ <span style=\"color: #e87d3e; text-decoration-color: #e87d3e; font-weight: bold\">The quick brown fox...</span> │\n",
       "├───────────────────┼───────────────┼───────┼─────────┼─────────┼────────────────┼────────────────────────┤\n",
       "│ repr.str          │ bright_green  │ <span style=\"color: #00ff00; text-decoration-color: #00ff00\">█████</span> │ None    │         │ -------------- │ <span style=\"color: #00ff00; text-decoration-color: #00ff00\">The quick brown fox...</span> │\n",
       "├───────────────────┼───────────────┼───────┼─────────┼─────────┼────────────────┼────────────────────────┤\n",
       "│ repr.tag_name     │ cyan          │ <span style=\"color: #008080; text-decoration-color: #008080\">█████</span> │ None    │         │ -<span style=\"font-weight: bold\">d</span>------------ │ <span style=\"color: #7fbfbf; text-decoration-color: #7fbfbf\">The quick brown fox...</span> │\n",
       "└───────────────────┴───────────────┴───────┴─────────┴─────────┴────────────────┴────────────────────────┘\n",
       "┌─ attributes legend ──────────────────────────────────────────────────────────────────┐\n",
       "│  <span style=\"font-weight: bold\">b</span>: bold, <span style=\"font-weight: bold\">d</span>: dim, <span style=\"font-weight: bold\">i</span>: italic, <span style=\"font-weight: bold\">u</span>: underline, <span style=\"font-weight: bold\">U</span>: double underline, <span style=\"font-weight: bold\">B</span>: blink, <span style=\"font-weight: bold\">2</span>: blink2  │\n",
       "│  <span style=\"font-weight: bold\">r</span>: reverse, <span style=\"font-weight: bold\">c</span>: conceal, <span style=\"font-weight: bold\">s</span>: strike, <span style=\"font-weight: bold\">f</span>: frame, <span style=\"font-weight: bold\">e</span>: encircle, <span style=\"font-weight: bold\">o</span>: overline, <span style=\"font-weight: bold\">L</span>: Link      │\n",
       "└──────────────────────────────────────────────────────────────────────────────────────┘\n",
       "</pre>\n"
      ],
      "text/plain": [
       "\u001b[3m                                      Theme: dark - themes/dark.theme                                      \u001b[0m\n",
       "┌───────────────────┬───────────────┬───────┬─────────┬─────────┬────────────────┬────────────────────────┐\n",
       "│\u001b[1m \u001b[0m\u001b[1mstyle            \u001b[0m\u001b[1m \u001b[0m│\u001b[1m \u001b[0m\u001b[1mcolor        \u001b[0m\u001b[1m \u001b[0m│\u001b[1m \u001b[0m\u001b[1mcolor\u001b[0m\u001b[1m \u001b[0m│\u001b[1m \u001b[0m\u001b[1mbgcolor\u001b[0m\u001b[1m \u001b[0m│\u001b[1m \u001b[0m\u001b[1mbgcolor\u001b[0m\u001b[1m \u001b[0m│\u001b[1m \u001b[0m\u001b[1mattributes    \u001b[0m\u001b[1m \u001b[0m│\u001b[1m \u001b[0m\u001b[1mexample               \u001b[0m\u001b[1m \u001b[0m│\n",
       "├───────────────────┼───────────────┼───────┼─────────┼─────────┼────────────────┼────────────────────────┤\n",
       "│ default           │ bright_white  │ \u001b[97m█████\u001b[0m │ black   │ \u001b[30m█████  \u001b[0m │ -------------- │ \u001b[97;40mThe quick brown fox...\u001b[0m │\n",
       "├───────────────────┼───────────────┼───────┼─────────┼─────────┼────────────────┼────────────────────────┤\n",
       "│ repr.attrib_name  │ #e87d3e       │ \u001b[38;2;232;125;62m█████\u001b[0m │ None    │         │ \u001b[1mb\u001b[0m------------- │ \u001b[1;38;2;232;125;62mThe quick brown fox...\u001b[0m │\n",
       "├───────────────────┼───────────────┼───────┼─────────┼─────────┼────────────────┼────────────────────────┤\n",
       "│ repr.attrib_value │ bright_blue   │ \u001b[94m█████\u001b[0m │ None    │         │ -------------- │ \u001b[94mThe quick brown fox...\u001b[0m │\n",
       "├───────────────────┼───────────────┼───────┼─────────┼─────────┼────────────────┼────────────────────────┤\n",
       "│ repr.call         │ bright_yellow │ \u001b[93m█████\u001b[0m │ None    │         │ -------------- │ \u001b[93mThe quick brown fox...\u001b[0m │\n",
       "├───────────────────┼───────────────┼───────┼─────────┼─────────┼────────────────┼────────────────────────┤\n",
       "│ repr.none         │ white         │ \u001b[37m█████\u001b[0m │ None    │         │ -\u001b[1md\u001b[0m------------ │ \u001b[2;37mThe quick brown fox...\u001b[0m │\n",
       "├───────────────────┼───────────────┼───────┼─────────┼─────────┼────────────────┼────────────────────────┤\n",
       "│ repr.number       │ bright_red    │ \u001b[91m█████\u001b[0m │ None    │         │ -------------- │ \u001b[91mThe quick brown fox...\u001b[0m │\n",
       "├───────────────────┼───────────────┼───────┼─────────┼─────────┼────────────────┼────────────────────────┤\n",
       "│ repr.own          │ #e87d3e       │ \u001b[38;2;232;125;62m█████\u001b[0m │ None    │         │ \u001b[1mb\u001b[0m------------- │ \u001b[1;38;2;232;125;62mThe quick brown fox...\u001b[0m │\n",
       "├───────────────────┼───────────────┼───────┼─────────┼─────────┼────────────────┼────────────────────────┤\n",
       "│ repr.str          │ bright_green  │ \u001b[92m█████\u001b[0m │ None    │         │ -------------- │ \u001b[92mThe quick brown fox...\u001b[0m │\n",
       "├───────────────────┼───────────────┼───────┼─────────┼─────────┼────────────────┼────────────────────────┤\n",
       "│ repr.tag_name     │ cyan          │ \u001b[36m█████\u001b[0m │ None    │         │ -\u001b[1md\u001b[0m------------ │ \u001b[2;36mThe quick brown fox...\u001b[0m │\n",
       "└───────────────────┴───────────────┴───────┴─────────┴─────────┴────────────────┴────────────────────────┘\n",
       "┌─ attributes legend ──────────────────────────────────────────────────────────────────┐\n",
       "│  \u001b[1mb\u001b[0m: bold, \u001b[1md\u001b[0m: dim, \u001b[1mi\u001b[0m: italic, \u001b[1mu\u001b[0m: underline, \u001b[1mU\u001b[0m: double underline, \u001b[1mB\u001b[0m: blink, \u001b[1m2\u001b[0m: blink2  │\n",
       "│  \u001b[1mr\u001b[0m: reverse, \u001b[1mc\u001b[0m: conceal, \u001b[1ms\u001b[0m: strike, \u001b[1mf\u001b[0m: frame, \u001b[1me\u001b[0m: encircle, \u001b[1mo\u001b[0m: overline, \u001b[1mL\u001b[0m: Link      │\n",
       "└──────────────────────────────────────────────────────────────────────────────────────┘\n"
      ]
     },
     "metadata": {},
     "output_type": "display_data"
    }
   ],
   "source": [
    "from rich.console import Console\n",
    "from rich.style import Style\n",
    "import pathlib\n",
    "from rich_theme_manager import Theme, ThemeManager\n",
    "\n",
    "THEMES = [\n",
    "    Theme(\n",
    "        name=\"dark\",\n",
    "        description=\"Dark mode theme\",\n",
    "        tags=[\"dark\"],\n",
    "        styles={\n",
    "            \"repr.own\": Style(color=\"#e87d3e\", bold=True),      # Class names\n",
    "            \"repr.tag_name\": \"dim cyan\",                        # Adjust tag names \n",
    "            \"repr.call\": \"bright_yellow\",                       # Function calls and other symbols\n",
    "            \"repr.str\": \"bright_green\",                         # String representation\n",
    "            \"repr.number\": \"bright_red\",                        # Numbers\n",
    "            \"repr.none\": \"dim white\",                           # None\n",
    "            \"repr.attrib_name\": Style(color=\"#e87d3e\", bold=True),    # Attribute names\n",
    "            \"repr.attrib_value\": \"bright_blue\",                 # Attribute values\n",
    "            \"default\": \"bright_white on black\"                  # Default text and background\n",
    "        },\n",
    "    ),\n",
    "    Theme(\n",
    "        name=\"light\",\n",
    "        description=\"Light mode theme\",\n",
    "        styles={\n",
    "            \"repr.own\": Style(color=\"#22863a\", bold=True),          # Class names\n",
    "            \"repr.tag_name\": Style(color=\"#00bfff\", bold=True),     # Adjust tag names \n",
    "            \"repr.call\": Style(color=\"#ffff00\", bold=True),         # Function calls and other symbols\n",
    "            \"repr.str\": Style(color=\"#008080\", bold=True),          # String representation\n",
    "            \"repr.number\": Style(color=\"#ff6347\", bold=True),       # Numbers\n",
    "            \"repr.none\": Style(color=\"#808080\", bold=True),         # None\n",
    "            \"repr.attrib_name\": Style(color=\"#ffff00\", bold=True),  # Attribute names\n",
    "            \"repr.attrib_value\": Style(color=\"#008080\", bold=True), # Attribute values\n",
    "            \"default\": Style(color=\"#000000\", bgcolor=\"#ffffff\"),   # Default text and background\n",
    "        },\n",
    "    ),\n",
    "]\n",
    "\n",
    "theme_dir = pathlib.Path(\"themes\").expanduser()\n",
    "theme_dir.expanduser().mkdir(parents=True, exist_ok=True)\n",
    "\n",
    "theme_manager = ThemeManager(theme_dir=theme_dir, themes=THEMES)\n",
    "theme_manager.list_themes()\n",
    "\n",
    "dark = theme_manager.get(\"dark\")\n",
    "theme_manager.preview_theme(dark)"
   ]
  },
  {
   "cell_type": "code",
   "execution_count": 5,
   "metadata": {},
   "outputs": [],
   "source": [
    "from rich.console import Console\n",
    "\n",
    "dark = theme_manager.get(\"dark\")\n",
    "# Create a console with the dark theme\n",
    "console = Console(theme=dark)\n"
   ]
  },
  {
   "cell_type": "code",
   "execution_count": 6,
   "metadata": {},
   "outputs": [],
   "source": [
    "import warnings\n",
    "\n",
    "# Suppress warnings\n",
    "warnings.filterwarnings('ignore')"
   ]
  },
  {
   "cell_type": "markdown",
   "metadata": {},
   "source": [
    "## Loading the Dataset\n",
    "\n",
    "Since the data is in a simple, small and structured CSV file, we can load it using Pandas."
   ]
  },
  {
   "cell_type": "code",
   "execution_count": 7,
   "metadata": {},
   "outputs": [
    {
     "data": {
      "text/html": [
       "<pre style=\"white-space:pre;overflow-x:auto;line-height:normal;font-family:Menlo,'DejaVu Sans Mono',consolas,'Courier New',monospace\"><span style=\"font-weight: bold\">[</span>\n",
       "    <span style=\"font-weight: bold\">{</span>\n",
       "        <span style=\"color: #00ff00; text-decoration-color: #00ff00\">'name'</span>: <span style=\"color: #00ff00; text-decoration-color: #00ff00\">'3 Rings Reserve Shiraz 2004'</span>,\n",
       "        <span style=\"color: #00ff00; text-decoration-color: #00ff00\">'region'</span>: <span style=\"color: #00ff00; text-decoration-color: #00ff00\">'Barossa Valley, Barossa, South Australia, Australia'</span>,\n",
       "        <span style=\"color: #00ff00; text-decoration-color: #00ff00\">'variety'</span>: <span style=\"color: #00ff00; text-decoration-color: #00ff00\">'Red Wine'</span>,\n",
       "        <span style=\"color: #00ff00; text-decoration-color: #00ff00\">'rating'</span>: <span style=\"color: #ff0000; text-decoration-color: #ff0000\">96.0</span>,\n",
       "        <span style=\"color: #00ff00; text-decoration-color: #00ff00\">'notes'</span>: <span style=\"color: #00ff00; text-decoration-color: #00ff00\">'Vintage Comments : Classic Barossa vintage conditions. An average wet Spring followed by extreme </span>\n",
       "<span style=\"color: #00ff00; text-decoration-color: #00ff00\">heat in early February. Occasional rainfall events kept the vines in good balance up to harvest in late March 2004.</span>\n",
       "<span style=\"color: #00ff00; text-decoration-color: #00ff00\">Very good quality coupled with good average yields. More than 30 months in wood followed by six months tank </span>\n",
       "<span style=\"color: #00ff00; text-decoration-color: #00ff00\">maturation of the blend prior to bottling, July 2007. '</span>\n",
       "    <span style=\"font-weight: bold\">}</span>,\n",
       "    <span style=\"font-weight: bold\">{</span>\n",
       "        <span style=\"color: #00ff00; text-decoration-color: #00ff00\">'name'</span>: <span style=\"color: #00ff00; text-decoration-color: #00ff00\">'Abreu Vineyards Cappella 2007'</span>,\n",
       "        <span style=\"color: #00ff00; text-decoration-color: #00ff00\">'region'</span>: <span style=\"color: #00ff00; text-decoration-color: #00ff00\">'Napa Valley, California'</span>,\n",
       "        <span style=\"color: #00ff00; text-decoration-color: #00ff00\">'variety'</span>: <span style=\"color: #00ff00; text-decoration-color: #00ff00\">'Red Wine'</span>,\n",
       "        <span style=\"color: #00ff00; text-decoration-color: #00ff00\">'rating'</span>: <span style=\"color: #ff0000; text-decoration-color: #ff0000\">96.0</span>,\n",
       "        <span style=\"color: #00ff00; text-decoration-color: #00ff00\">'notes'</span>: <span style=\"color: #00ff00; text-decoration-color: #00ff00\">'Cappella is a proprietary blend of two clones of Cabernet Sauvignon with Cabernet Franc, Petit </span>\n",
       "<span style=\"color: #00ff00; text-decoration-color: #00ff00\">Verdot and Merlot. The gravelly soil at Cappella produces fruit that is very elegant in structure. The resulting </span>\n",
       "<span style=\"color: #00ff00; text-decoration-color: #00ff00\">wine exhibits beautiful purity of fruit with fine grained and lengthy tannins. '</span>\n",
       "    <span style=\"font-weight: bold\">}</span>\n",
       "<span style=\"font-weight: bold\">]</span>\n",
       "</pre>\n"
      ],
      "text/plain": [
       "\u001b[1m[\u001b[0m\n",
       "    \u001b[1m{\u001b[0m\n",
       "        \u001b[92m'name'\u001b[0m: \u001b[92m'3 Rings Reserve Shiraz 2004'\u001b[0m,\n",
       "        \u001b[92m'region'\u001b[0m: \u001b[92m'Barossa Valley, Barossa, South Australia, Australia'\u001b[0m,\n",
       "        \u001b[92m'variety'\u001b[0m: \u001b[92m'Red Wine'\u001b[0m,\n",
       "        \u001b[92m'rating'\u001b[0m: \u001b[91m96.0\u001b[0m,\n",
       "        \u001b[92m'notes'\u001b[0m: \u001b[92m'Vintage Comments : Classic Barossa vintage conditions. An average wet Spring followed by extreme \u001b[0m\n",
       "\u001b[92mheat in early February. Occasional rainfall events kept the vines in good balance up to harvest in late March 2004.\u001b[0m\n",
       "\u001b[92mVery good quality coupled with good average yields. More than 30 months in wood followed by six months tank \u001b[0m\n",
       "\u001b[92mmaturation of the blend prior to bottling, July 2007. '\u001b[0m\n",
       "    \u001b[1m}\u001b[0m,\n",
       "    \u001b[1m{\u001b[0m\n",
       "        \u001b[92m'name'\u001b[0m: \u001b[92m'Abreu Vineyards Cappella 2007'\u001b[0m,\n",
       "        \u001b[92m'region'\u001b[0m: \u001b[92m'Napa Valley, California'\u001b[0m,\n",
       "        \u001b[92m'variety'\u001b[0m: \u001b[92m'Red Wine'\u001b[0m,\n",
       "        \u001b[92m'rating'\u001b[0m: \u001b[91m96.0\u001b[0m,\n",
       "        \u001b[92m'notes'\u001b[0m: \u001b[92m'Cappella is a proprietary blend of two clones of Cabernet Sauvignon with Cabernet Franc, Petit \u001b[0m\n",
       "\u001b[92mVerdot and Merlot. The gravelly soil at Cappella produces fruit that is very elegant in structure. The resulting \u001b[0m\n",
       "\u001b[92mwine exhibits beautiful purity of fruit with fine grained and lengthy tannins. '\u001b[0m\n",
       "    \u001b[1m}\u001b[0m\n",
       "\u001b[1m]\u001b[0m\n"
      ]
     },
     "metadata": {},
     "output_type": "display_data"
    }
   ],
   "source": [
    "import pandas as pd\n",
    "\n",
    "data = (\n",
    "    pd\n",
    "    .read_csv('data/top_rated_wines.csv')\n",
    "    .query('variety.notna()')\n",
    "    .reset_index(drop=True)\n",
    "    .to_dict('records')\n",
    ")\n",
    "console.print(data[:2])"
   ]
  },
  {
   "cell_type": "markdown",
   "metadata": {},
   "source": [
    "## Encode using Vector Embedding\n",
    "\n",
    "We will use one of the popular open source vector databases, [Qdrant](https://qdrant.tech/), and one of the popular embedding encoder and text transformer libraries, [SentenceTransformer](https://sbert.net/)."
   ]
  },
  {
   "cell_type": "code",
   "execution_count": 9,
   "metadata": {},
   "outputs": [],
   "source": [
    "from qdrant_client import models, QdrantClient\n",
    "from sentence_transformers import SentenceTransformer\n",
    "\n",
    "# create the vector database client\n",
    "qdrant = QdrantClient(\":memory:\") # Create in-memory Qdrant instance\n",
    "\n",
    "# Create the embedding encoder\n",
    "encoder = SentenceTransformer('all-MiniLM-L6-v2') # Model to create embeddings"
   ]
  },
  {
   "cell_type": "code",
   "execution_count": 10,
   "metadata": {},
   "outputs": [
    {
     "data": {
      "text/plain": [
       "True"
      ]
     },
     "execution_count": 10,
     "metadata": {},
     "output_type": "execute_result"
    }
   ],
   "source": [
    "# Create collection to store the wine rating data\n",
    "collection_name=\"top_wines\"\n",
    "\n",
    "qdrant.recreate_collection(\n",
    "    collection_name=collection_name,\n",
    "    vectors_config=models.VectorParams(\n",
    "        size=encoder.get_sentence_embedding_dimension(), # Vector size is defined by used model\n",
    "        distance=models.Distance.COSINE\n",
    "    )\n",
    ")"
   ]
  },
  {
   "cell_type": "markdown",
   "metadata": {},
   "source": [
    "### Loading the data into the vector database\n",
    "\n",
    "We will use the (vector) collection that we created above, to go over all the `notes` column of the wine dataset, and encode it into embedding vector, and store it in the vector database. The indexing of the data to allow quick retrieval is running in the background as we load it.\n",
    "\n",
    "This step will take a few seconds (less than a minute on my laptop)."
   ]
  },
  {
   "cell_type": "code",
   "execution_count": 11,
   "metadata": {},
   "outputs": [],
   "source": [
    "# vectorize!\n",
    "qdrant.upload_points(\n",
    "    collection_name=collection_name,\n",
    "    points=[\n",
    "        models.PointStruct(\n",
    "            id=idx,\n",
    "            vector=encoder.encode(doc[\"notes\"]).tolist(),\n",
    "            payload=doc\n",
    "        ) for idx, doc in enumerate(data) # data is the variable holding all the wines\n",
    "    ]\n",
    ")"
   ]
  },
  {
   "cell_type": "code",
   "execution_count": 12,
   "metadata": {},
   "outputs": [
    {
     "data": {
      "text/html": [
       "<pre style=\"white-space:pre;overflow-x:auto;line-height:normal;font-family:Menlo,'DejaVu Sans Mono',consolas,'Courier New',monospace\"><span style=\"color: #ffff00; text-decoration-color: #ffff00\">CollectionInfo</span><span style=\"font-weight: bold\">(</span>\n",
       "    <span style=\"color: #e87d3e; text-decoration-color: #e87d3e; font-weight: bold\">status</span>=<span style=\"font-weight: bold\">&lt;</span><span style=\"color: #7fbfbf; text-decoration-color: #7fbfbf\">CollectionStatus.GREEN:</span><span style=\"color: #000000; text-decoration-color: #000000\"> </span><span style=\"color: #00ff00; text-decoration-color: #00ff00\">'green'</span><span style=\"color: #000000; text-decoration-color: #000000\">&gt;,</span>\n",
       "<span style=\"color: #000000; text-decoration-color: #000000\">    </span><span style=\"color: #e87d3e; text-decoration-color: #e87d3e; font-weight: bold\">optimizer_status</span><span style=\"color: #000000; text-decoration-color: #000000\">=&lt;OptimizersStatusOneOf.OK: </span><span style=\"color: #00ff00; text-decoration-color: #00ff00\">'ok'</span><span style=\"color: #000000; text-decoration-color: #000000\">&gt;,</span>\n",
       "<span style=\"color: #000000; text-decoration-color: #000000\">    </span><span style=\"color: #e87d3e; text-decoration-color: #e87d3e; font-weight: bold\">vectors_count</span><span style=\"color: #000000; text-decoration-color: #000000\">=</span><span style=\"color: #dfdfdf; text-decoration-color: #dfdfdf\">None</span><span style=\"color: #000000; text-decoration-color: #000000\">,</span>\n",
       "<span style=\"color: #000000; text-decoration-color: #000000\">    </span><span style=\"color: #e87d3e; text-decoration-color: #e87d3e; font-weight: bold\">indexed_vectors_count</span><span style=\"color: #000000; text-decoration-color: #000000\">=</span><span style=\"color: #ff0000; text-decoration-color: #ff0000\">0</span><span style=\"color: #000000; text-decoration-color: #000000\">,</span>\n",
       "<span style=\"color: #000000; text-decoration-color: #000000\">    </span><span style=\"color: #e87d3e; text-decoration-color: #e87d3e; font-weight: bold\">points_count</span><span style=\"color: #000000; text-decoration-color: #000000\">=</span><span style=\"color: #ff0000; text-decoration-color: #ff0000\">1347</span><span style=\"color: #000000; text-decoration-color: #000000\">,</span>\n",
       "<span style=\"color: #000000; text-decoration-color: #000000\">    </span><span style=\"color: #e87d3e; text-decoration-color: #e87d3e; font-weight: bold\">segments_count</span><span style=\"color: #000000; text-decoration-color: #000000\">=</span><span style=\"color: #ff0000; text-decoration-color: #ff0000\">1</span><span style=\"color: #000000; text-decoration-color: #000000\">,</span>\n",
       "<span style=\"color: #000000; text-decoration-color: #000000\">    </span><span style=\"color: #e87d3e; text-decoration-color: #e87d3e; font-weight: bold\">config</span><span style=\"color: #000000; text-decoration-color: #000000\">=</span><span style=\"color: #ffff00; text-decoration-color: #ffff00\">CollectionConfig</span><span style=\"color: #000000; text-decoration-color: #000000; font-weight: bold\">(</span>\n",
       "<span style=\"color: #000000; text-decoration-color: #000000\">        </span><span style=\"color: #e87d3e; text-decoration-color: #e87d3e; font-weight: bold\">params</span><span style=\"color: #000000; text-decoration-color: #000000\">=</span><span style=\"color: #ffff00; text-decoration-color: #ffff00\">CollectionParams</span><span style=\"color: #000000; text-decoration-color: #000000; font-weight: bold\">(</span>\n",
       "<span style=\"color: #000000; text-decoration-color: #000000\">            </span><span style=\"color: #e87d3e; text-decoration-color: #e87d3e; font-weight: bold\">vectors</span><span style=\"color: #000000; text-decoration-color: #000000\">=</span><span style=\"color: #ffff00; text-decoration-color: #ffff00\">VectorParams</span><span style=\"color: #000000; text-decoration-color: #000000; font-weight: bold\">(</span>\n",
       "<span style=\"color: #000000; text-decoration-color: #000000\">                </span><span style=\"color: #e87d3e; text-decoration-color: #e87d3e; font-weight: bold\">size</span><span style=\"color: #000000; text-decoration-color: #000000\">=</span><span style=\"color: #ff0000; text-decoration-color: #ff0000\">384</span><span style=\"color: #000000; text-decoration-color: #000000\">,</span>\n",
       "<span style=\"color: #000000; text-decoration-color: #000000\">                </span><span style=\"color: #e87d3e; text-decoration-color: #e87d3e; font-weight: bold\">distance</span><span style=\"color: #000000; text-decoration-color: #000000\">=&lt;Distance.COSINE: </span><span style=\"color: #00ff00; text-decoration-color: #00ff00\">'Cosine'</span><span style=\"font-weight: bold\">&gt;</span>,\n",
       "                <span style=\"color: #e87d3e; text-decoration-color: #e87d3e; font-weight: bold\">hnsw_config</span>=<span style=\"color: #dfdfdf; text-decoration-color: #dfdfdf\">None</span>,\n",
       "                <span style=\"color: #e87d3e; text-decoration-color: #e87d3e; font-weight: bold\">quantization_config</span>=<span style=\"color: #dfdfdf; text-decoration-color: #dfdfdf\">None</span>,\n",
       "                <span style=\"color: #e87d3e; text-decoration-color: #e87d3e; font-weight: bold\">on_disk</span>=<span style=\"color: #dfdfdf; text-decoration-color: #dfdfdf\">None</span>,\n",
       "                <span style=\"color: #e87d3e; text-decoration-color: #e87d3e; font-weight: bold\">datatype</span>=<span style=\"color: #dfdfdf; text-decoration-color: #dfdfdf\">None</span>,\n",
       "                <span style=\"color: #e87d3e; text-decoration-color: #e87d3e; font-weight: bold\">multivector_config</span>=<span style=\"color: #dfdfdf; text-decoration-color: #dfdfdf\">None</span>\n",
       "            <span style=\"font-weight: bold\">)</span>,\n",
       "            <span style=\"color: #e87d3e; text-decoration-color: #e87d3e; font-weight: bold\">shard_number</span>=<span style=\"color: #dfdfdf; text-decoration-color: #dfdfdf\">None</span>,\n",
       "            <span style=\"color: #e87d3e; text-decoration-color: #e87d3e; font-weight: bold\">sharding_method</span>=<span style=\"color: #dfdfdf; text-decoration-color: #dfdfdf\">None</span>,\n",
       "            <span style=\"color: #e87d3e; text-decoration-color: #e87d3e; font-weight: bold\">replication_factor</span>=<span style=\"color: #dfdfdf; text-decoration-color: #dfdfdf\">None</span>,\n",
       "            <span style=\"color: #e87d3e; text-decoration-color: #e87d3e; font-weight: bold\">write_consistency_factor</span>=<span style=\"color: #dfdfdf; text-decoration-color: #dfdfdf\">None</span>,\n",
       "            <span style=\"color: #e87d3e; text-decoration-color: #e87d3e; font-weight: bold\">read_fan_out_factor</span>=<span style=\"color: #dfdfdf; text-decoration-color: #dfdfdf\">None</span>,\n",
       "            <span style=\"color: #e87d3e; text-decoration-color: #e87d3e; font-weight: bold\">on_disk_payload</span>=<span style=\"color: #dfdfdf; text-decoration-color: #dfdfdf\">None</span>,\n",
       "            <span style=\"color: #e87d3e; text-decoration-color: #e87d3e; font-weight: bold\">sparse_vectors</span>=<span style=\"color: #dfdfdf; text-decoration-color: #dfdfdf\">None</span>\n",
       "        <span style=\"font-weight: bold\">)</span>,\n",
       "        <span style=\"color: #e87d3e; text-decoration-color: #e87d3e; font-weight: bold\">hnsw_config</span>=<span style=\"color: #ffff00; text-decoration-color: #ffff00\">HnswConfig</span><span style=\"font-weight: bold\">(</span>\n",
       "            <span style=\"color: #e87d3e; text-decoration-color: #e87d3e; font-weight: bold\">m</span>=<span style=\"color: #ff0000; text-decoration-color: #ff0000\">16</span>,\n",
       "            <span style=\"color: #e87d3e; text-decoration-color: #e87d3e; font-weight: bold\">ef_construct</span>=<span style=\"color: #ff0000; text-decoration-color: #ff0000\">100</span>,\n",
       "            <span style=\"color: #e87d3e; text-decoration-color: #e87d3e; font-weight: bold\">full_scan_threshold</span>=<span style=\"color: #ff0000; text-decoration-color: #ff0000\">10000</span>,\n",
       "            <span style=\"color: #e87d3e; text-decoration-color: #e87d3e; font-weight: bold\">max_indexing_threads</span>=<span style=\"color: #ff0000; text-decoration-color: #ff0000\">0</span>,\n",
       "            <span style=\"color: #e87d3e; text-decoration-color: #e87d3e; font-weight: bold\">on_disk</span>=<span style=\"color: #dfdfdf; text-decoration-color: #dfdfdf\">None</span>,\n",
       "            <span style=\"color: #e87d3e; text-decoration-color: #e87d3e; font-weight: bold\">payload_m</span>=<span style=\"color: #dfdfdf; text-decoration-color: #dfdfdf\">None</span>\n",
       "        <span style=\"font-weight: bold\">)</span>,\n",
       "        <span style=\"color: #e87d3e; text-decoration-color: #e87d3e; font-weight: bold\">optimizer_config</span>=<span style=\"color: #ffff00; text-decoration-color: #ffff00\">OptimizersConfig</span><span style=\"font-weight: bold\">(</span>\n",
       "            <span style=\"color: #e87d3e; text-decoration-color: #e87d3e; font-weight: bold\">deleted_threshold</span>=<span style=\"color: #ff0000; text-decoration-color: #ff0000\">0.2</span>,\n",
       "            <span style=\"color: #e87d3e; text-decoration-color: #e87d3e; font-weight: bold\">vacuum_min_vector_number</span>=<span style=\"color: #ff0000; text-decoration-color: #ff0000\">1000</span>,\n",
       "            <span style=\"color: #e87d3e; text-decoration-color: #e87d3e; font-weight: bold\">default_segment_number</span>=<span style=\"color: #ff0000; text-decoration-color: #ff0000\">0</span>,\n",
       "            <span style=\"color: #e87d3e; text-decoration-color: #e87d3e; font-weight: bold\">max_segment_size</span>=<span style=\"color: #dfdfdf; text-decoration-color: #dfdfdf\">None</span>,\n",
       "            <span style=\"color: #e87d3e; text-decoration-color: #e87d3e; font-weight: bold\">memmap_threshold</span>=<span style=\"color: #dfdfdf; text-decoration-color: #dfdfdf\">None</span>,\n",
       "            <span style=\"color: #e87d3e; text-decoration-color: #e87d3e; font-weight: bold\">indexing_threshold</span>=<span style=\"color: #ff0000; text-decoration-color: #ff0000\">20000</span>,\n",
       "            <span style=\"color: #e87d3e; text-decoration-color: #e87d3e; font-weight: bold\">flush_interval_sec</span>=<span style=\"color: #ff0000; text-decoration-color: #ff0000\">5</span>,\n",
       "            <span style=\"color: #e87d3e; text-decoration-color: #e87d3e; font-weight: bold\">max_optimization_threads</span>=<span style=\"color: #ff0000; text-decoration-color: #ff0000\">1</span>\n",
       "        <span style=\"font-weight: bold\">)</span>,\n",
       "        <span style=\"color: #e87d3e; text-decoration-color: #e87d3e; font-weight: bold\">wal_config</span>=<span style=\"color: #ffff00; text-decoration-color: #ffff00\">WalConfig</span><span style=\"font-weight: bold\">(</span><span style=\"color: #e87d3e; text-decoration-color: #e87d3e; font-weight: bold\">wal_capacity_mb</span>=<span style=\"color: #ff0000; text-decoration-color: #ff0000\">32</span>, <span style=\"color: #e87d3e; text-decoration-color: #e87d3e; font-weight: bold\">wal_segments_ahead</span>=<span style=\"color: #ff0000; text-decoration-color: #ff0000\">0</span><span style=\"font-weight: bold\">)</span>,\n",
       "        <span style=\"color: #e87d3e; text-decoration-color: #e87d3e; font-weight: bold\">quantization_config</span>=<span style=\"color: #dfdfdf; text-decoration-color: #dfdfdf\">None</span>,\n",
       "        <span style=\"color: #e87d3e; text-decoration-color: #e87d3e; font-weight: bold\">strict_mode_config</span>=<span style=\"color: #dfdfdf; text-decoration-color: #dfdfdf\">None</span>\n",
       "    <span style=\"font-weight: bold\">)</span>,\n",
       "    <span style=\"color: #e87d3e; text-decoration-color: #e87d3e; font-weight: bold\">payload_schema</span>=<span style=\"font-weight: bold\">{}</span>\n",
       "<span style=\"font-weight: bold\">)</span>\n",
       "</pre>\n"
      ],
      "text/plain": [
       "\u001b[93mCollectionInfo\u001b[0m\u001b[1m(\u001b[0m\n",
       "    \u001b[1;38;2;232;125;62mstatus\u001b[0m=\u001b[1m<\u001b[0m\u001b[2;36mCollectionStatus.GREEN:\u001b[0m\u001b[39m \u001b[0m\u001b[92m'green'\u001b[0m\u001b[39m>,\u001b[0m\n",
       "\u001b[39m    \u001b[0m\u001b[1;38;2;232;125;62moptimizer_status\u001b[0m\u001b[39m=<OptimizersStatusOneOf.OK: \u001b[0m\u001b[92m'ok'\u001b[0m\u001b[39m>,\u001b[0m\n",
       "\u001b[39m    \u001b[0m\u001b[1;38;2;232;125;62mvectors_count\u001b[0m\u001b[39m=\u001b[0m\u001b[2;37mNone\u001b[0m\u001b[39m,\u001b[0m\n",
       "\u001b[39m    \u001b[0m\u001b[1;38;2;232;125;62mindexed_vectors_count\u001b[0m\u001b[39m=\u001b[0m\u001b[91m0\u001b[0m\u001b[39m,\u001b[0m\n",
       "\u001b[39m    \u001b[0m\u001b[1;38;2;232;125;62mpoints_count\u001b[0m\u001b[39m=\u001b[0m\u001b[91m1347\u001b[0m\u001b[39m,\u001b[0m\n",
       "\u001b[39m    \u001b[0m\u001b[1;38;2;232;125;62msegments_count\u001b[0m\u001b[39m=\u001b[0m\u001b[91m1\u001b[0m\u001b[39m,\u001b[0m\n",
       "\u001b[39m    \u001b[0m\u001b[1;38;2;232;125;62mconfig\u001b[0m\u001b[39m=\u001b[0m\u001b[93mCollectionConfig\u001b[0m\u001b[1;39m(\u001b[0m\n",
       "\u001b[39m        \u001b[0m\u001b[1;38;2;232;125;62mparams\u001b[0m\u001b[39m=\u001b[0m\u001b[93mCollectionParams\u001b[0m\u001b[1;39m(\u001b[0m\n",
       "\u001b[39m            \u001b[0m\u001b[1;38;2;232;125;62mvectors\u001b[0m\u001b[39m=\u001b[0m\u001b[93mVectorParams\u001b[0m\u001b[1;39m(\u001b[0m\n",
       "\u001b[39m                \u001b[0m\u001b[1;38;2;232;125;62msize\u001b[0m\u001b[39m=\u001b[0m\u001b[91m384\u001b[0m\u001b[39m,\u001b[0m\n",
       "\u001b[39m                \u001b[0m\u001b[1;38;2;232;125;62mdistance\u001b[0m\u001b[39m=<Distance.COSINE: \u001b[0m\u001b[92m'Cosine'\u001b[0m\u001b[1m>\u001b[0m,\n",
       "                \u001b[1;38;2;232;125;62mhnsw_config\u001b[0m=\u001b[2;37mNone\u001b[0m,\n",
       "                \u001b[1;38;2;232;125;62mquantization_config\u001b[0m=\u001b[2;37mNone\u001b[0m,\n",
       "                \u001b[1;38;2;232;125;62mon_disk\u001b[0m=\u001b[2;37mNone\u001b[0m,\n",
       "                \u001b[1;38;2;232;125;62mdatatype\u001b[0m=\u001b[2;37mNone\u001b[0m,\n",
       "                \u001b[1;38;2;232;125;62mmultivector_config\u001b[0m=\u001b[2;37mNone\u001b[0m\n",
       "            \u001b[1m)\u001b[0m,\n",
       "            \u001b[1;38;2;232;125;62mshard_number\u001b[0m=\u001b[2;37mNone\u001b[0m,\n",
       "            \u001b[1;38;2;232;125;62msharding_method\u001b[0m=\u001b[2;37mNone\u001b[0m,\n",
       "            \u001b[1;38;2;232;125;62mreplication_factor\u001b[0m=\u001b[2;37mNone\u001b[0m,\n",
       "            \u001b[1;38;2;232;125;62mwrite_consistency_factor\u001b[0m=\u001b[2;37mNone\u001b[0m,\n",
       "            \u001b[1;38;2;232;125;62mread_fan_out_factor\u001b[0m=\u001b[2;37mNone\u001b[0m,\n",
       "            \u001b[1;38;2;232;125;62mon_disk_payload\u001b[0m=\u001b[2;37mNone\u001b[0m,\n",
       "            \u001b[1;38;2;232;125;62msparse_vectors\u001b[0m=\u001b[2;37mNone\u001b[0m\n",
       "        \u001b[1m)\u001b[0m,\n",
       "        \u001b[1;38;2;232;125;62mhnsw_config\u001b[0m=\u001b[93mHnswConfig\u001b[0m\u001b[1m(\u001b[0m\n",
       "            \u001b[1;38;2;232;125;62mm\u001b[0m=\u001b[91m16\u001b[0m,\n",
       "            \u001b[1;38;2;232;125;62mef_construct\u001b[0m=\u001b[91m100\u001b[0m,\n",
       "            \u001b[1;38;2;232;125;62mfull_scan_threshold\u001b[0m=\u001b[91m10000\u001b[0m,\n",
       "            \u001b[1;38;2;232;125;62mmax_indexing_threads\u001b[0m=\u001b[91m0\u001b[0m,\n",
       "            \u001b[1;38;2;232;125;62mon_disk\u001b[0m=\u001b[2;37mNone\u001b[0m,\n",
       "            \u001b[1;38;2;232;125;62mpayload_m\u001b[0m=\u001b[2;37mNone\u001b[0m\n",
       "        \u001b[1m)\u001b[0m,\n",
       "        \u001b[1;38;2;232;125;62moptimizer_config\u001b[0m=\u001b[93mOptimizersConfig\u001b[0m\u001b[1m(\u001b[0m\n",
       "            \u001b[1;38;2;232;125;62mdeleted_threshold\u001b[0m=\u001b[91m0\u001b[0m\u001b[91m.2\u001b[0m,\n",
       "            \u001b[1;38;2;232;125;62mvacuum_min_vector_number\u001b[0m=\u001b[91m1000\u001b[0m,\n",
       "            \u001b[1;38;2;232;125;62mdefault_segment_number\u001b[0m=\u001b[91m0\u001b[0m,\n",
       "            \u001b[1;38;2;232;125;62mmax_segment_size\u001b[0m=\u001b[2;37mNone\u001b[0m,\n",
       "            \u001b[1;38;2;232;125;62mmemmap_threshold\u001b[0m=\u001b[2;37mNone\u001b[0m,\n",
       "            \u001b[1;38;2;232;125;62mindexing_threshold\u001b[0m=\u001b[91m20000\u001b[0m,\n",
       "            \u001b[1;38;2;232;125;62mflush_interval_sec\u001b[0m=\u001b[91m5\u001b[0m,\n",
       "            \u001b[1;38;2;232;125;62mmax_optimization_threads\u001b[0m=\u001b[91m1\u001b[0m\n",
       "        \u001b[1m)\u001b[0m,\n",
       "        \u001b[1;38;2;232;125;62mwal_config\u001b[0m=\u001b[93mWalConfig\u001b[0m\u001b[1m(\u001b[0m\u001b[1;38;2;232;125;62mwal_capacity_mb\u001b[0m=\u001b[91m32\u001b[0m, \u001b[1;38;2;232;125;62mwal_segments_ahead\u001b[0m=\u001b[91m0\u001b[0m\u001b[1m)\u001b[0m,\n",
       "        \u001b[1;38;2;232;125;62mquantization_config\u001b[0m=\u001b[2;37mNone\u001b[0m,\n",
       "        \u001b[1;38;2;232;125;62mstrict_mode_config\u001b[0m=\u001b[2;37mNone\u001b[0m\n",
       "    \u001b[1m)\u001b[0m,\n",
       "    \u001b[1;38;2;232;125;62mpayload_schema\u001b[0m=\u001b[1m{\u001b[0m\u001b[1m}\u001b[0m\n",
       "\u001b[1m)\u001b[0m\n"
      ]
     },
     "metadata": {},
     "output_type": "display_data"
    }
   ],
   "source": [
    "console.print(qdrant.get_collection(collection_name=collection_name))"
   ]
  },
  {
   "cell_type": "markdown",
   "metadata": {},
   "source": [
    "## **R**etrieve sematically relevant data based on user's query\n",
    "\n",
    "Once the data is loaded into the vector database and the indexing process is done, we can start using our simple RAG system."
   ]
  },
  {
   "cell_type": "code",
   "execution_count": 13,
   "metadata": {},
   "outputs": [],
   "source": [
    "user_prompt = \"Suggest me an amazing Malbec wine from Argentina\""
   ]
  },
  {
   "cell_type": "markdown",
   "metadata": {},
   "source": [
    "### Encoding the user's query\n",
    "\n",
    "We will use the same encoder that we used to encode the document data to encode the query of the user. \n",
    "This way we can search results based on semantic similarity. "
   ]
  },
  {
   "cell_type": "code",
   "execution_count": 14,
   "metadata": {},
   "outputs": [],
   "source": [
    "query_vector = encoder.encode(user_prompt).tolist()"
   ]
  },
  {
   "cell_type": "markdown",
   "metadata": {},
   "source": [
    "### Search similar rows\n",
    "\n",
    "We can now take the embedding encoding of the user's query and use it to find similar rows in the vector database."
   ]
  },
  {
   "cell_type": "code",
   "execution_count": 15,
   "metadata": {},
   "outputs": [],
   "source": [
    "# Search time for awesome wines!\n",
    "\n",
    "hits = qdrant.search(\n",
    "    collection_name=collection_name,\n",
    "    query_vector=query_vector,\n",
    "    limit=3\n",
    ")"
   ]
  },
  {
   "cell_type": "code",
   "execution_count": 16,
   "metadata": {},
   "outputs": [
    {
     "data": {
      "text/html": [
       "<pre style=\"white-space:pre;overflow-x:auto;line-height:normal;font-family:Menlo,'DejaVu Sans Mono',consolas,'Courier New',monospace\"><span style=\"font-style: italic\">                                                 Retrieval Results                                                 </span>\n",
       "┏━━━━━━━━━━━━━━━━━━━━━━━━━━━━━━━━┳━━━━━━━━━━━━━━━━━━┳━━━━━━━━━━┳━━━━━━━━┳━━━━━━━━━━━━━━━━━━━━━━━━━━━━━━━━┳━━━━━━━━┓\n",
       "┃<span style=\"font-weight: bold\"> Name                           </span>┃<span style=\"font-weight: bold\"> Region           </span>┃<span style=\"font-weight: bold\"> Variety  </span>┃<span style=\"font-weight: bold\"> Rating </span>┃<span style=\"font-weight: bold\"> Notes                          </span>┃<span style=\"font-weight: bold\"> Score  </span>┃\n",
       "┡━━━━━━━━━━━━━━━━━━━━━━━━━━━━━━━━╇━━━━━━━━━━━━━━━━━━╇━━━━━━━━━━╇━━━━━━━━╇━━━━━━━━━━━━━━━━━━━━━━━━━━━━━━━━╇━━━━━━━━┩\n",
       "│<span style=\"color: #e0e0e0; text-decoration-color: #e0e0e0\"> Catena Zapata Argentino        </span>│<span style=\"color: #ff0000; text-decoration-color: #ff0000\"> Argentina        </span>│<span style=\"color: #008000; text-decoration-color: #008000\"> Red Wine </span>│<span style=\"color: #808000; text-decoration-color: #808000\"> 98.0   </span>│<span style=\"color: #89ddff; text-decoration-color: #89ddff\"> \"The single-vineyard 2004      </span>│<span style=\"color: #a6accd; text-decoration-color: #a6accd\"> 0.6378 </span>│\n",
       "│<span style=\"color: #e0e0e0; text-decoration-color: #e0e0e0\"> Vineyard Malbec 2004           </span>│<span style=\"color: #ff0000; text-decoration-color: #ff0000\">                  </span>│<span style=\"color: #008000; text-decoration-color: #008000\">          </span>│<span style=\"color: #808000; text-decoration-color: #808000\">        </span>│<span style=\"color: #89ddff; text-decoration-color: #89ddff\"> Malbec Argentino Vineyar...    </span>│<span style=\"color: #a6accd; text-decoration-color: #a6accd\">        </span>│\n",
       "├────────────────────────────────┼──────────────────┼──────────┼────────┼────────────────────────────────┼────────┤\n",
       "│<span style=\"color: #e0e0e0; text-decoration-color: #e0e0e0\"> Bodega Colome Altura Maxima    </span>│<span style=\"color: #ff0000; text-decoration-color: #ff0000\"> Salta, Argentina </span>│<span style=\"color: #008000; text-decoration-color: #008000\"> Red Wine </span>│<span style=\"color: #808000; text-decoration-color: #808000\"> 96.0   </span>│<span style=\"color: #89ddff; text-decoration-color: #89ddff\"> Winemaker Thibaut Delmotte has </span>│<span style=\"color: #a6accd; text-decoration-color: #a6accd\"> 0.6180 </span>│\n",
       "│<span style=\"color: #e0e0e0; text-decoration-color: #e0e0e0\"> Malbec 2012                    </span>│<span style=\"color: #ff0000; text-decoration-color: #ff0000\">                  </span>│<span style=\"color: #008000; text-decoration-color: #008000\">          </span>│<span style=\"color: #808000; text-decoration-color: #808000\">        </span>│<span style=\"color: #89ddff; text-decoration-color: #89ddff\"> crafted wines of di...         </span>│<span style=\"color: #a6accd; text-decoration-color: #a6accd\">        </span>│\n",
       "├────────────────────────────────┼──────────────────┼──────────┼────────┼────────────────────────────────┼────────┤\n",
       "│<span style=\"color: #e0e0e0; text-decoration-color: #e0e0e0\"> Catena Zapata Adrianna         </span>│<span style=\"color: #ff0000; text-decoration-color: #ff0000\"> Argentina        </span>│<span style=\"color: #008000; text-decoration-color: #008000\"> Red Wine </span>│<span style=\"color: #808000; text-decoration-color: #808000\"> 97.0   </span>│<span style=\"color: #89ddff; text-decoration-color: #89ddff\"> \"The single-vineyard 2004      </span>│<span style=\"color: #a6accd; text-decoration-color: #a6accd\"> 0.6118 </span>│\n",
       "│<span style=\"color: #e0e0e0; text-decoration-color: #e0e0e0\"> Vineyard Malbec 2004           </span>│<span style=\"color: #ff0000; text-decoration-color: #ff0000\">                  </span>│<span style=\"color: #008000; text-decoration-color: #008000\">          </span>│<span style=\"color: #808000; text-decoration-color: #808000\">        </span>│<span style=\"color: #89ddff; text-decoration-color: #89ddff\"> Malbec Adrianna Vineyard...    </span>│<span style=\"color: #a6accd; text-decoration-color: #a6accd\">        </span>│\n",
       "└────────────────────────────────┴──────────────────┴──────────┴────────┴────────────────────────────────┴────────┘\n",
       "</pre>\n"
      ],
      "text/plain": [
       "\u001b[3m                                                 Retrieval Results                                                 \u001b[0m\n",
       "┏━━━━━━━━━━━━━━━━━━━━━━━━━━━━━━━━┳━━━━━━━━━━━━━━━━━━┳━━━━━━━━━━┳━━━━━━━━┳━━━━━━━━━━━━━━━━━━━━━━━━━━━━━━━━┳━━━━━━━━┓\n",
       "┃\u001b[1m \u001b[0m\u001b[1mName                          \u001b[0m\u001b[1m \u001b[0m┃\u001b[1m \u001b[0m\u001b[1mRegion          \u001b[0m\u001b[1m \u001b[0m┃\u001b[1m \u001b[0m\u001b[1mVariety \u001b[0m\u001b[1m \u001b[0m┃\u001b[1m \u001b[0m\u001b[1mRating\u001b[0m\u001b[1m \u001b[0m┃\u001b[1m \u001b[0m\u001b[1mNotes                         \u001b[0m\u001b[1m \u001b[0m┃\u001b[1m \u001b[0m\u001b[1mScore \u001b[0m\u001b[1m \u001b[0m┃\n",
       "┡━━━━━━━━━━━━━━━━━━━━━━━━━━━━━━━━╇━━━━━━━━━━━━━━━━━━╇━━━━━━━━━━╇━━━━━━━━╇━━━━━━━━━━━━━━━━━━━━━━━━━━━━━━━━╇━━━━━━━━┩\n",
       "│\u001b[38;2;224;224;224m \u001b[0m\u001b[38;2;224;224;224mCatena Zapata Argentino       \u001b[0m\u001b[38;2;224;224;224m \u001b[0m│\u001b[91m \u001b[0m\u001b[91mArgentina       \u001b[0m\u001b[91m \u001b[0m│\u001b[32m \u001b[0m\u001b[32mRed Wine\u001b[0m\u001b[32m \u001b[0m│\u001b[33m \u001b[0m\u001b[33m98.0  \u001b[0m\u001b[33m \u001b[0m│\u001b[38;2;137;221;255m \u001b[0m\u001b[38;2;137;221;255m\"The single-vineyard 2004     \u001b[0m\u001b[38;2;137;221;255m \u001b[0m│\u001b[38;2;166;172;205m \u001b[0m\u001b[38;2;166;172;205m0.6378\u001b[0m\u001b[38;2;166;172;205m \u001b[0m│\n",
       "│\u001b[38;2;224;224;224m \u001b[0m\u001b[38;2;224;224;224mVineyard Malbec 2004          \u001b[0m\u001b[38;2;224;224;224m \u001b[0m│\u001b[91m                  \u001b[0m│\u001b[32m          \u001b[0m│\u001b[33m        \u001b[0m│\u001b[38;2;137;221;255m \u001b[0m\u001b[38;2;137;221;255mMalbec Argentino Vineyar...   \u001b[0m\u001b[38;2;137;221;255m \u001b[0m│\u001b[38;2;166;172;205m        \u001b[0m│\n",
       "├────────────────────────────────┼──────────────────┼──────────┼────────┼────────────────────────────────┼────────┤\n",
       "│\u001b[38;2;224;224;224m \u001b[0m\u001b[38;2;224;224;224mBodega Colome Altura Maxima   \u001b[0m\u001b[38;2;224;224;224m \u001b[0m│\u001b[91m \u001b[0m\u001b[91mSalta, Argentina\u001b[0m\u001b[91m \u001b[0m│\u001b[32m \u001b[0m\u001b[32mRed Wine\u001b[0m\u001b[32m \u001b[0m│\u001b[33m \u001b[0m\u001b[33m96.0  \u001b[0m\u001b[33m \u001b[0m│\u001b[38;2;137;221;255m \u001b[0m\u001b[38;2;137;221;255mWinemaker Thibaut Delmotte has\u001b[0m\u001b[38;2;137;221;255m \u001b[0m│\u001b[38;2;166;172;205m \u001b[0m\u001b[38;2;166;172;205m0.6180\u001b[0m\u001b[38;2;166;172;205m \u001b[0m│\n",
       "│\u001b[38;2;224;224;224m \u001b[0m\u001b[38;2;224;224;224mMalbec 2012                   \u001b[0m\u001b[38;2;224;224;224m \u001b[0m│\u001b[91m                  \u001b[0m│\u001b[32m          \u001b[0m│\u001b[33m        \u001b[0m│\u001b[38;2;137;221;255m \u001b[0m\u001b[38;2;137;221;255mcrafted wines of di...        \u001b[0m\u001b[38;2;137;221;255m \u001b[0m│\u001b[38;2;166;172;205m        \u001b[0m│\n",
       "├────────────────────────────────┼──────────────────┼──────────┼────────┼────────────────────────────────┼────────┤\n",
       "│\u001b[38;2;224;224;224m \u001b[0m\u001b[38;2;224;224;224mCatena Zapata Adrianna        \u001b[0m\u001b[38;2;224;224;224m \u001b[0m│\u001b[91m \u001b[0m\u001b[91mArgentina       \u001b[0m\u001b[91m \u001b[0m│\u001b[32m \u001b[0m\u001b[32mRed Wine\u001b[0m\u001b[32m \u001b[0m│\u001b[33m \u001b[0m\u001b[33m97.0  \u001b[0m\u001b[33m \u001b[0m│\u001b[38;2;137;221;255m \u001b[0m\u001b[38;2;137;221;255m\"The single-vineyard 2004     \u001b[0m\u001b[38;2;137;221;255m \u001b[0m│\u001b[38;2;166;172;205m \u001b[0m\u001b[38;2;166;172;205m0.6118\u001b[0m\u001b[38;2;166;172;205m \u001b[0m│\n",
       "│\u001b[38;2;224;224;224m \u001b[0m\u001b[38;2;224;224;224mVineyard Malbec 2004          \u001b[0m\u001b[38;2;224;224;224m \u001b[0m│\u001b[91m                  \u001b[0m│\u001b[32m          \u001b[0m│\u001b[33m        \u001b[0m│\u001b[38;2;137;221;255m \u001b[0m\u001b[38;2;137;221;255mMalbec Adrianna Vineyard...   \u001b[0m\u001b[38;2;137;221;255m \u001b[0m│\u001b[38;2;166;172;205m        \u001b[0m│\n",
       "└────────────────────────────────┴──────────────────┴──────────┴────────┴────────────────────────────────┴────────┘\n"
      ]
     },
     "metadata": {},
     "output_type": "display_data"
    }
   ],
   "source": [
    "from rich.console import Console\n",
    "from rich.text import Text\n",
    "from rich.table import Table\n",
    "\n",
    "table = Table(title=\"Retrieval Results\", show_lines=True)\n",
    "\n",
    "table.add_column(\"Name\", style=\"#e0e0e0\")\n",
    "table.add_column(\"Region\", style=\"bright_red\")\n",
    "table.add_column(\"Variety\", style=\"green\")\n",
    "table.add_column(\"Rating\", style=\"yellow\")\n",
    "table.add_column(\"Notes\", style=\"#89ddff\")\n",
    "table.add_column(\"Score\", style=\"#a6accd\")\n",
    "\n",
    "for hit in hits:\n",
    "    table.add_row(\n",
    "        hit.payload[\"name\"],\n",
    "        hit.payload[\"region\"],\n",
    "        hit.payload[\"variety\"],\n",
    "        str(hit.payload[\"rating\"]),\n",
    "        f'{hit.payload[\"notes\"][:50]}...',\n",
    "        f\"{hit.score:.4f}\"\n",
    "    )\n",
    "\n",
    "console.print(table)"
   ]
  },
  {
   "cell_type": "markdown",
   "metadata": {},
   "source": [
    "## **A**ugment the prompt to the LLM with retrieved data\n",
    "\n",
    "In our simple example, we will simply take the top 3 results and use them as is in the prompt to the generation LLM."
   ]
  },
  {
   "cell_type": "markdown",
   "metadata": {},
   "source": [
    "## **G**enerate reply to the user's query\n",
    "\n",
    "We will use Gemma3:4b from Ollama and run it locally on GTX 1050 Ti 4Gigs GPU"
   ]
  },
  {
   "cell_type": "markdown",
   "metadata": {},
   "source": [
    "### First let's try without **R**etrieval\n",
    "\n",
    "We can ask the LLM to recommend based only on the user prompt."
   ]
  },
  {
   "cell_type": "code",
   "execution_count": 28,
   "metadata": {},
   "outputs": [
    {
     "data": {
      "text/html": [
       "<pre style=\"white-space:pre;overflow-x:auto;line-height:normal;font-family:Menlo,'DejaVu Sans Mono',consolas,'Courier New',monospace\"><span style=\"color: #008000; text-decoration-color: #008000; font-weight: bold\">╭───────────────────────────────────── Wine Recommendation without Retrieval ─────────────────────────────────────╮</span>\n",
       "<span style=\"color: #008000; text-decoration-color: #008000; font-weight: bold\">│</span>                                                                                                                 <span style=\"color: #008000; text-decoration-color: #008000; font-weight: bold\">│</span>\n",
       "<span style=\"color: #008000; text-decoration-color: #008000; font-weight: bold\">│</span>                                                                                                                 <span style=\"color: #008000; text-decoration-color: #008000; font-weight: bold\">│</span>\n",
       "<span style=\"color: #008000; text-decoration-color: #008000; font-weight: bold\">│</span>                                                                                                                 <span style=\"color: #008000; text-decoration-color: #008000; font-weight: bold\">│</span>\n",
       "<span style=\"color: #008000; text-decoration-color: #008000; font-weight: bold\">│</span> **For a truly amazing Malbec experience from Argentina, I wholeheartedly recommend you try the Catena Zapata    <span style=\"color: #008000; text-decoration-color: #008000; font-weight: bold\">│</span>\n",
       "<span style=\"color: #008000; text-decoration-color: #008000; font-weight: bold\">│</span> Malbec – Alto Pago Vieras.**                                                                                    <span style=\"color: #008000; text-decoration-color: #008000; font-weight: bold\">│</span>\n",
       "<span style=\"color: #008000; text-decoration-color: #008000; font-weight: bold\">│</span>                                                                                                                 <span style=\"color: #008000; text-decoration-color: #008000; font-weight: bold\">│</span>\n",
       "<span style=\"color: #008000; text-decoration-color: #008000; font-weight: bold\">│</span> Let me tell you why it's consistently rated as one of the best and why I think it’ll be amazing for you:        <span style=\"color: #008000; text-decoration-color: #008000; font-weight: bold\">│</span>\n",
       "<span style=\"color: #008000; text-decoration-color: #008000; font-weight: bold\">│</span>                                                                                                                 <span style=\"color: #008000; text-decoration-color: #008000; font-weight: bold\">│</span>\n",
       "<span style=\"color: #008000; text-decoration-color: #008000; font-weight: bold\">│</span> *   **Estate-Grown Excellence:** The Vieiras vineyard is located in the Uco Valley, one of Argentina's premier  <span style=\"color: #008000; text-decoration-color: #008000; font-weight: bold\">│</span>\n",
       "<span style=\"color: #008000; text-decoration-color: #008000; font-weight: bold\">│</span> wine regions. Catena Zapata has meticulously cultivated this site for decades, focusing on unique clones and    <span style=\"color: #008000; text-decoration-color: #008000; font-weight: bold\">│</span>\n",
       "<span style=\"color: #008000; text-decoration-color: #008000; font-weight: bold\">│</span> meticulous vineyard management.                                                                                 <span style=\"color: #008000; text-decoration-color: #008000; font-weight: bold\">│</span>\n",
       "<span style=\"color: #008000; text-decoration-color: #008000; font-weight: bold\">│</span> *   **Distinct Flavor Profile:** This Malbec consistently delivers incredibly complex flavors. Expect notes of: <span style=\"color: #008000; text-decoration-color: #008000; font-weight: bold\">│</span>\n",
       "<span style=\"color: #008000; text-decoration-color: #008000; font-weight: bold\">│</span>     *   **Dark Fruits:** Blackberry, plum, and cherry are prominent, but with a deep, almost jam-like           <span style=\"color: #008000; text-decoration-color: #008000; font-weight: bold\">│</span>\n",
       "<span style=\"color: #008000; text-decoration-color: #008000; font-weight: bold\">│</span> character.                                                                                                      <span style=\"color: #008000; text-decoration-color: #008000; font-weight: bold\">│</span>\n",
       "<span style=\"color: #008000; text-decoration-color: #008000; font-weight: bold\">│</span>     *   **Spicy Undertones:** You'll find hints of black pepper, cloves, and cinnamon—a hallmark of the Uco     <span style=\"color: #008000; text-decoration-color: #008000; font-weight: bold\">│</span>\n",
       "<span style=\"color: #008000; text-decoration-color: #008000; font-weight: bold\">│</span> Valley’s high altitude and cool evenings.                                                                       <span style=\"color: #008000; text-decoration-color: #008000; font-weight: bold\">│</span>\n",
       "<span style=\"color: #008000; text-decoration-color: #008000; font-weight: bold\">│</span>     *   **Vanilla &amp; Oak:** The wine is aged in new French oak barrels, contributing subtle vanilla, toast, and  <span style=\"color: #008000; text-decoration-color: #008000; font-weight: bold\">│</span>\n",
       "<span style=\"color: #008000; text-decoration-color: #008000; font-weight: bold\">│</span> spice notes that beautifully complement the fruit.                                                              <span style=\"color: #008000; text-decoration-color: #008000; font-weight: bold\">│</span>\n",
       "<span style=\"color: #008000; text-decoration-color: #008000; font-weight: bold\">│</span>     *   **Mineral Complexity:** A notable minerality adds a sophisticated dimension to the wine.                <span style=\"color: #008000; text-decoration-color: #008000; font-weight: bold\">│</span>\n",
       "<span style=\"color: #008000; text-decoration-color: #008000; font-weight: bold\">│</span> *   **Aging Potential:**  This is a wine that improves with age.  Even a younger bottle (3-5 years) will be     <span style=\"color: #008000; text-decoration-color: #008000; font-weight: bold\">│</span>\n",
       "<span style=\"color: #008000; text-decoration-color: #008000; font-weight: bold\">│</span> fantastic, but it has the potential to evolve beautifully for 10+ years in the cellar.                          <span style=\"color: #008000; text-decoration-color: #008000; font-weight: bold\">│</span>\n",
       "<span style=\"color: #008000; text-decoration-color: #008000; font-weight: bold\">│</span> *   **Reputation:** Catena Zapata is a household name in Argentina's wine scene. They’re pioneers of            <span style=\"color: #008000; text-decoration-color: #008000; font-weight: bold\">│</span>\n",
       "<span style=\"color: #008000; text-decoration-color: #008000; font-weight: bold\">│</span> single-vineyard Malbec and have earned critical acclaim worldwide.                                              <span style=\"color: #008000; text-decoration-color: #008000; font-weight: bold\">│</span>\n",
       "<span style=\"color: #008000; text-decoration-color: #008000; font-weight: bold\">│</span>                                                                                                                 <span style=\"color: #008000; text-decoration-color: #008000; font-weight: bold\">│</span>\n",
       "<span style=\"color: #008000; text-decoration-color: #008000; font-weight: bold\">│</span>                                                                                                                 <span style=\"color: #008000; text-decoration-color: #008000; font-weight: bold\">│</span>\n",
       "<span style=\"color: #008000; text-decoration-color: #008000; font-weight: bold\">│</span>                                                                                                                 <span style=\"color: #008000; text-decoration-color: #008000; font-weight: bold\">│</span>\n",
       "<span style=\"color: #008000; text-decoration-color: #008000; font-weight: bold\">│</span> **Here’s a little more about it to help you decide:**                                                           <span style=\"color: #008000; text-decoration-color: #008000; font-weight: bold\">│</span>\n",
       "<span style=\"color: #008000; text-decoration-color: #008000; font-weight: bold\">│</span>                                                                                                                 <span style=\"color: #008000; text-decoration-color: #008000; font-weight: bold\">│</span>\n",
       "<span style=\"color: #008000; text-decoration-color: #008000; font-weight: bold\">│</span> *   **Vintage:**  2019, 2020, and 2022 are particularly stellar vintages.  2019 is still fantastic, but the     <span style=\"color: #008000; text-decoration-color: #008000; font-weight: bold\">│</span>\n",
       "<span style=\"color: #008000; text-decoration-color: #008000; font-weight: bold\">│</span> more recent vintages have been exceptional.                                                                     <span style=\"color: #008000; text-decoration-color: #008000; font-weight: bold\">│</span>\n",
       "<span style=\"color: #008000; text-decoration-color: #008000; font-weight: bold\">│</span> *   **Price Range:** Expect to pay around $45 - $75 depending on the vintage and retailer.                      <span style=\"color: #008000; text-decoration-color: #008000; font-weight: bold\">│</span>\n",
       "<span style=\"color: #008000; text-decoration-color: #008000; font-weight: bold\">│</span> *   **Food Pairing:** This wine is a fantastic match for grilled meats (especially steak), lamb, roasted        <span style=\"color: #008000; text-decoration-color: #008000; font-weight: bold\">│</span>\n",
       "<span style=\"color: #008000; text-decoration-color: #008000; font-weight: bold\">│</span> vegetables, hard cheeses, or even rich mushroom dishes.                                                         <span style=\"color: #008000; text-decoration-color: #008000; font-weight: bold\">│</span>\n",
       "<span style=\"color: #008000; text-decoration-color: #008000; font-weight: bold\">│</span>                                                                                                                 <span style=\"color: #008000; text-decoration-color: #008000; font-weight: bold\">│</span>\n",
       "<span style=\"color: #008000; text-decoration-color: #008000; font-weight: bold\">│</span> **Resources to learn more:**                                                                                    <span style=\"color: #008000; text-decoration-color: #008000; font-weight: bold\">│</span>\n",
       "<span style=\"color: #008000; text-decoration-color: #008000; font-weight: bold\">│</span>                                                                                                                 <span style=\"color: #008000; text-decoration-color: #008000; font-weight: bold\">│</span>\n",
       "<span style=\"color: #008000; text-decoration-color: #008000; font-weight: bold\">│</span> *   **Catena Zapata Website:** (https://www.catalatina.com/catena-zapata/)                                      <span style=\"color: #008000; text-decoration-color: #008000; font-weight: bold\">│</span>\n",
       "<span style=\"color: #008000; text-decoration-color: #008000; font-weight: bold\">│</span> *   **Wine Spectator Review:**                                                                                  <span style=\"color: #008000; text-decoration-color: #008000; font-weight: bold\">│</span>\n",
       "<span style=\"color: #008000; text-decoration-color: #008000; font-weight: bold\">│</span> (https://www.winespectator.com/malbec/catena-zapata-alto-pago-vieiras-malbec-argentina/)                        <span style=\"color: #008000; text-decoration-color: #008000; font-weight: bold\">│</span>\n",
       "<span style=\"color: #008000; text-decoration-color: #008000; font-weight: bold\">│</span>                                                                                                                 <span style=\"color: #008000; text-decoration-color: #008000; font-weight: bold\">│</span>\n",
       "<span style=\"color: #008000; text-decoration-color: #008000; font-weight: bold\">│</span> To help me refine this recommendation even further, could you tell me:                                          <span style=\"color: #008000; text-decoration-color: #008000; font-weight: bold\">│</span>\n",
       "<span style=\"color: #008000; text-decoration-color: #008000; font-weight: bold\">│</span>                                                                                                                 <span style=\"color: #008000; text-decoration-color: #008000; font-weight: bold\">│</span>\n",
       "<span style=\"color: #008000; text-decoration-color: #008000; font-weight: bold\">│</span> *   **What's your budget?** (e.g., under $50, $50-$100, no limit)                                               <span style=\"color: #008000; text-decoration-color: #008000; font-weight: bold\">│</span>\n",
       "<span style=\"color: #008000; text-decoration-color: #008000; font-weight: bold\">│</span> *   **What kind of food are you planning to pair it with?** (e.g., steak, pasta, vegetarian)                    <span style=\"color: #008000; text-decoration-color: #008000; font-weight: bold\">│</span>\n",
       "<span style=\"color: #008000; text-decoration-color: #008000; font-weight: bold\">│</span> *   **What are some other wines you’ve enjoyed in the past?** (This helps me understand your palate!)           <span style=\"color: #008000; text-decoration-color: #008000; font-weight: bold\">│</span>\n",
       "<span style=\"color: #008000; text-decoration-color: #008000; font-weight: bold\">│</span>                                                                                                                 <span style=\"color: #008000; text-decoration-color: #008000; font-weight: bold\">│</span>\n",
       "<span style=\"color: #008000; text-decoration-color: #008000; font-weight: bold\">╰─────────────────────────────────────────────────────────────────────────────────────────────────────────────────╯</span>\n",
       "</pre>\n"
      ],
      "text/plain": [
       "\u001b[1;32m╭─\u001b[0m\u001b[1;32m────────────────────────────────────\u001b[0m\u001b[1;32m Wine Recommendation without Retrieval \u001b[0m\u001b[1;32m────────────────────────────────────\u001b[0m\u001b[1;32m─╮\u001b[0m\n",
       "\u001b[1;32m│\u001b[0m                                                                                                                 \u001b[1;32m│\u001b[0m\n",
       "\u001b[1;32m│\u001b[0m                                                                                                                 \u001b[1;32m│\u001b[0m\n",
       "\u001b[1;32m│\u001b[0m                                                                                                                 \u001b[1;32m│\u001b[0m\n",
       "\u001b[1;32m│\u001b[0m **For a truly amazing Malbec experience from Argentina, I wholeheartedly recommend you try the Catena Zapata    \u001b[1;32m│\u001b[0m\n",
       "\u001b[1;32m│\u001b[0m Malbec – Alto Pago Vieras.**                                                                                    \u001b[1;32m│\u001b[0m\n",
       "\u001b[1;32m│\u001b[0m                                                                                                                 \u001b[1;32m│\u001b[0m\n",
       "\u001b[1;32m│\u001b[0m Let me tell you why it's consistently rated as one of the best and why I think it’ll be amazing for you:        \u001b[1;32m│\u001b[0m\n",
       "\u001b[1;32m│\u001b[0m                                                                                                                 \u001b[1;32m│\u001b[0m\n",
       "\u001b[1;32m│\u001b[0m *   **Estate-Grown Excellence:** The Vieiras vineyard is located in the Uco Valley, one of Argentina's premier  \u001b[1;32m│\u001b[0m\n",
       "\u001b[1;32m│\u001b[0m wine regions. Catena Zapata has meticulously cultivated this site for decades, focusing on unique clones and    \u001b[1;32m│\u001b[0m\n",
       "\u001b[1;32m│\u001b[0m meticulous vineyard management.                                                                                 \u001b[1;32m│\u001b[0m\n",
       "\u001b[1;32m│\u001b[0m *   **Distinct Flavor Profile:** This Malbec consistently delivers incredibly complex flavors. Expect notes of: \u001b[1;32m│\u001b[0m\n",
       "\u001b[1;32m│\u001b[0m     *   **Dark Fruits:** Blackberry, plum, and cherry are prominent, but with a deep, almost jam-like           \u001b[1;32m│\u001b[0m\n",
       "\u001b[1;32m│\u001b[0m character.                                                                                                      \u001b[1;32m│\u001b[0m\n",
       "\u001b[1;32m│\u001b[0m     *   **Spicy Undertones:** You'll find hints of black pepper, cloves, and cinnamon—a hallmark of the Uco     \u001b[1;32m│\u001b[0m\n",
       "\u001b[1;32m│\u001b[0m Valley’s high altitude and cool evenings.                                                                       \u001b[1;32m│\u001b[0m\n",
       "\u001b[1;32m│\u001b[0m     *   **Vanilla & Oak:** The wine is aged in new French oak barrels, contributing subtle vanilla, toast, and  \u001b[1;32m│\u001b[0m\n",
       "\u001b[1;32m│\u001b[0m spice notes that beautifully complement the fruit.                                                              \u001b[1;32m│\u001b[0m\n",
       "\u001b[1;32m│\u001b[0m     *   **Mineral Complexity:** A notable minerality adds a sophisticated dimension to the wine.                \u001b[1;32m│\u001b[0m\n",
       "\u001b[1;32m│\u001b[0m *   **Aging Potential:**  This is a wine that improves with age.  Even a younger bottle (3-5 years) will be     \u001b[1;32m│\u001b[0m\n",
       "\u001b[1;32m│\u001b[0m fantastic, but it has the potential to evolve beautifully for 10+ years in the cellar.                          \u001b[1;32m│\u001b[0m\n",
       "\u001b[1;32m│\u001b[0m *   **Reputation:** Catena Zapata is a household name in Argentina's wine scene. They’re pioneers of            \u001b[1;32m│\u001b[0m\n",
       "\u001b[1;32m│\u001b[0m single-vineyard Malbec and have earned critical acclaim worldwide.                                              \u001b[1;32m│\u001b[0m\n",
       "\u001b[1;32m│\u001b[0m                                                                                                                 \u001b[1;32m│\u001b[0m\n",
       "\u001b[1;32m│\u001b[0m                                                                                                                 \u001b[1;32m│\u001b[0m\n",
       "\u001b[1;32m│\u001b[0m                                                                                                                 \u001b[1;32m│\u001b[0m\n",
       "\u001b[1;32m│\u001b[0m **Here’s a little more about it to help you decide:**                                                           \u001b[1;32m│\u001b[0m\n",
       "\u001b[1;32m│\u001b[0m                                                                                                                 \u001b[1;32m│\u001b[0m\n",
       "\u001b[1;32m│\u001b[0m *   **Vintage:**  2019, 2020, and 2022 are particularly stellar vintages.  2019 is still fantastic, but the     \u001b[1;32m│\u001b[0m\n",
       "\u001b[1;32m│\u001b[0m more recent vintages have been exceptional.                                                                     \u001b[1;32m│\u001b[0m\n",
       "\u001b[1;32m│\u001b[0m *   **Price Range:** Expect to pay around $45 - $75 depending on the vintage and retailer.                      \u001b[1;32m│\u001b[0m\n",
       "\u001b[1;32m│\u001b[0m *   **Food Pairing:** This wine is a fantastic match for grilled meats (especially steak), lamb, roasted        \u001b[1;32m│\u001b[0m\n",
       "\u001b[1;32m│\u001b[0m vegetables, hard cheeses, or even rich mushroom dishes.                                                         \u001b[1;32m│\u001b[0m\n",
       "\u001b[1;32m│\u001b[0m                                                                                                                 \u001b[1;32m│\u001b[0m\n",
       "\u001b[1;32m│\u001b[0m **Resources to learn more:**                                                                                    \u001b[1;32m│\u001b[0m\n",
       "\u001b[1;32m│\u001b[0m                                                                                                                 \u001b[1;32m│\u001b[0m\n",
       "\u001b[1;32m│\u001b[0m *   **Catena Zapata Website:** (https://www.catalatina.com/catena-zapata/)                                      \u001b[1;32m│\u001b[0m\n",
       "\u001b[1;32m│\u001b[0m *   **Wine Spectator Review:**                                                                                  \u001b[1;32m│\u001b[0m\n",
       "\u001b[1;32m│\u001b[0m (https://www.winespectator.com/malbec/catena-zapata-alto-pago-vieiras-malbec-argentina/)                        \u001b[1;32m│\u001b[0m\n",
       "\u001b[1;32m│\u001b[0m                                                                                                                 \u001b[1;32m│\u001b[0m\n",
       "\u001b[1;32m│\u001b[0m To help me refine this recommendation even further, could you tell me:                                          \u001b[1;32m│\u001b[0m\n",
       "\u001b[1;32m│\u001b[0m                                                                                                                 \u001b[1;32m│\u001b[0m\n",
       "\u001b[1;32m│\u001b[0m *   **What's your budget?** (e.g., under $50, $50-$100, no limit)                                               \u001b[1;32m│\u001b[0m\n",
       "\u001b[1;32m│\u001b[0m *   **What kind of food are you planning to pair it with?** (e.g., steak, pasta, vegetarian)                    \u001b[1;32m│\u001b[0m\n",
       "\u001b[1;32m│\u001b[0m *   **What are some other wines you’ve enjoyed in the past?** (This helps me understand your palate!)           \u001b[1;32m│\u001b[0m\n",
       "\u001b[1;32m│\u001b[0m                                                                                                                 \u001b[1;32m│\u001b[0m\n",
       "\u001b[1;32m╰─────────────────────────────────────────────────────────────────────────────────────────────────────────────────╯\u001b[0m\n"
      ]
     },
     "metadata": {},
     "output_type": "display_data"
    }
   ],
   "source": [
    "from ollama import chat\n",
    "from rich.panel import Panel\n",
    "\n",
    "response = chat(\n",
    "    model=\"gemma3:4b\",\n",
    "    messages=[\n",
    "        {\"role\": \"system\", \"content\": \"You are chatbot, a wine specialist. Your top priority is to help guide users into selecting amazing wine and guide them with their requests.\"},\n",
    "        {\"role\": \"user\", \"content\": user_prompt},\n",
    "        {\"role\": \"assistant\", \"content\": \"Here is my wine recommendation:\"}\n",
    "    ],\n",
    "    stream=False\n",
    ")\n",
    "styled_panel = Panel(\n",
    "    response.message.content,\n",
    "    title=\"Wine Recommendation without Retrieval\",\n",
    "    expand=False,\n",
    "    border_style=\"bold green\",\n",
    "    padding=(1, 1)\n",
    ")\n",
    "\n",
    "console.print(styled_panel)"
   ]
  },
  {
   "cell_type": "code",
   "execution_count": 36,
   "metadata": {},
   "outputs": [
    {
     "data": {
      "text/html": [
       "<pre style=\"white-space:pre;overflow-x:auto;line-height:normal;font-family:Menlo,'DejaVu Sans Mono',consolas,'Courier New',monospace\"><span style=\"font-weight: bold\">{</span>\n",
       "    <span style=\"color: #00ff00; text-decoration-color: #00ff00\">'name'</span>: <span style=\"color: #00ff00; text-decoration-color: #00ff00\">'Catena Zapata Argentino Vineyard Malbec 2004'</span>,\n",
       "    <span style=\"color: #00ff00; text-decoration-color: #00ff00\">'region'</span>: <span style=\"color: #00ff00; text-decoration-color: #00ff00\">'Argentina'</span>,\n",
       "    <span style=\"color: #00ff00; text-decoration-color: #00ff00\">'variety'</span>: <span style=\"color: #00ff00; text-decoration-color: #00ff00\">'Red Wine'</span>,\n",
       "    <span style=\"color: #00ff00; text-decoration-color: #00ff00\">'rating'</span>: <span style=\"color: #ff0000; text-decoration-color: #ff0000\">98.0</span>,\n",
       "    <span style=\"color: #00ff00; text-decoration-color: #00ff00\">'notes'</span>: <span style=\"color: #00ff00; text-decoration-color: #00ff00\">'\"The single-vineyard 2004 Malbec Argentino Vineyard spent 17 months in new French oak. Remarkably </span>\n",
       "<span style=\"color: #00ff00; text-decoration-color: #00ff00\">fragrant and complex aromatically, it offers up aromas of wood smoke, creosote, pepper, clove, black cherry, and </span>\n",
       "<span style=\"color: #00ff00; text-decoration-color: #00ff00\">blackberry. Made in a similar, elegant style, it is the most structured of the three single vineyard wines, needing</span>\n",
       "<span style=\"color: #00ff00; text-decoration-color: #00ff00\">a minimum of a decade of additional cellaring. It should easily prove to be a 25-40 year wine. It is an exceptional</span>\n",
       "<span style=\"color: #00ff00; text-decoration-color: #00ff00\">achievement in Malbec. When all is said and done, Catena Zapata is the Argentina winery of reference – the standard</span>\n",
       "<span style=\"color: #00ff00; text-decoration-color: #00ff00\">of excellence for comparing all others. The brilliant, forward-thinking Nicolas Catena remains in charge, with his </span>\n",
       "<span style=\"color: #00ff00; text-decoration-color: #00ff00\">daughter, Laura, playing an increasingly large role. The Catena Zapata winery is an essential destination for fans </span>\n",
       "<span style=\"color: #00ff00; text-decoration-color: #00ff00\">of both architecture and wine in Mendoza. It is hard to believe, given the surge in popularity of Malbec in recent </span>\n",
       "<span style=\"color: #00ff00; text-decoration-color: #00ff00\">years, that Catena Zapata only began exporting Malbec to the United States in 1994.\"'</span>\n",
       "<span style=\"font-weight: bold\">}</span>\n",
       "</pre>\n"
      ],
      "text/plain": [
       "\u001b[1m{\u001b[0m\n",
       "    \u001b[92m'name'\u001b[0m: \u001b[92m'Catena Zapata Argentino Vineyard Malbec 2004'\u001b[0m,\n",
       "    \u001b[92m'region'\u001b[0m: \u001b[92m'Argentina'\u001b[0m,\n",
       "    \u001b[92m'variety'\u001b[0m: \u001b[92m'Red Wine'\u001b[0m,\n",
       "    \u001b[92m'rating'\u001b[0m: \u001b[91m98.0\u001b[0m,\n",
       "    \u001b[92m'notes'\u001b[0m: \u001b[92m'\"The single-vineyard 2004 Malbec Argentino Vineyard spent 17 months in new French oak. Remarkably \u001b[0m\n",
       "\u001b[92mfragrant and complex aromatically, it offers up aromas of wood smoke, creosote, pepper, clove, black cherry, and \u001b[0m\n",
       "\u001b[92mblackberry. Made in a similar, elegant style, it is the most structured of the three single vineyard wines, needing\u001b[0m\n",
       "\u001b[92ma minimum of a decade of additional cellaring. It should easily prove to be a 25-40 year wine. It is an exceptional\u001b[0m\n",
       "\u001b[92machievement in Malbec. When all is said and done, Catena Zapata is the Argentina winery of reference – the standard\u001b[0m\n",
       "\u001b[92mof excellence for comparing all others. The brilliant, forward-thinking Nicolas Catena remains in charge, with his \u001b[0m\n",
       "\u001b[92mdaughter, Laura, playing an increasingly large role. The Catena Zapata winery is an essential destination for fans \u001b[0m\n",
       "\u001b[92mof both architecture and wine in Mendoza. It is hard to believe, given the surge in popularity of Malbec in recent \u001b[0m\n",
       "\u001b[92myears, that Catena Zapata only began exporting Malbec to the United States in 1994.\"'\u001b[0m\n",
       "\u001b[1m}\u001b[0m\n"
      ]
     },
     "metadata": {},
     "output_type": "display_data"
    }
   ],
   "source": [
    "# define a variable to hold the search results\n",
    "search_results = [hit.payload for hit in hits]\n",
    "\n",
    "console.print(search_results[0])"
   ]
  },
  {
   "cell_type": "code",
   "execution_count": 38,
   "metadata": {},
   "outputs": [
    {
     "data": {
      "text/html": [
       "<pre style=\"white-space:pre;overflow-x:auto;line-height:normal;font-family:Menlo,'DejaVu Sans Mono',consolas,'Courier New',monospace\"><span style=\"color: #008000; text-decoration-color: #008000; font-weight: bold\">╭────────────────────────────────────── Wine Recommendation with Retrieval ───────────────────────────────────────╮</span>\n",
       "<span style=\"color: #008000; text-decoration-color: #008000; font-weight: bold\">│</span>                                                                                                                 <span style=\"color: #008000; text-decoration-color: #008000; font-weight: bold\">│</span>\n",
       "<span style=\"color: #008000; text-decoration-color: #008000; font-weight: bold\">│</span>                                                                                                                 <span style=\"color: #008000; text-decoration-color: #008000; font-weight: bold\">│</span>\n",
       "<span style=\"color: #008000; text-decoration-color: #008000; font-weight: bold\">│</span>                                                                                                                 <span style=\"color: #008000; text-decoration-color: #008000; font-weight: bold\">│</span>\n",
       "<span style=\"color: #008000; text-decoration-color: #008000; font-weight: bold\">│</span> Okay, let's find you an *amazing* Malbec from Argentina! Based on the information I have, I’m going to          <span style=\"color: #008000; text-decoration-color: #008000; font-weight: bold\">│</span>\n",
       "<span style=\"color: #008000; text-decoration-color: #008000; font-weight: bold\">│</span> recommend the **Catena Zapata Argentino Vineyard Malbec 2004**.                                                 <span style=\"color: #008000; text-decoration-color: #008000; font-weight: bold\">│</span>\n",
       "<span style=\"color: #008000; text-decoration-color: #008000; font-weight: bold\">│</span>                                                                                                                 <span style=\"color: #008000; text-decoration-color: #008000; font-weight: bold\">│</span>\n",
       "<span style=\"color: #008000; text-decoration-color: #008000; font-weight: bold\">│</span> Here’s why it’s a fantastic choice:                                                                             <span style=\"color: #008000; text-decoration-color: #008000; font-weight: bold\">│</span>\n",
       "<span style=\"color: #008000; text-decoration-color: #008000; font-weight: bold\">│</span>                                                                                                                 <span style=\"color: #008000; text-decoration-color: #008000; font-weight: bold\">│</span>\n",
       "<span style=\"color: #008000; text-decoration-color: #008000; font-weight: bold\">│</span> *   **Exceptional Rating:** It consistently receives a 98.0 rating, indicating it’s a truly top-tier wine.      <span style=\"color: #008000; text-decoration-color: #008000; font-weight: bold\">│</span>\n",
       "<span style=\"color: #008000; text-decoration-color: #008000; font-weight: bold\">│</span> *   **Complex Flavors:** It boasts a remarkably complex flavor profile, including notes of wood smoke,          <span style=\"color: #008000; text-decoration-color: #008000; font-weight: bold\">│</span>\n",
       "<span style=\"color: #008000; text-decoration-color: #008000; font-weight: bold\">│</span> creosote, pepper, clove, black cherry, and blackberry – creating a truly layered tasting experience.            <span style=\"color: #008000; text-decoration-color: #008000; font-weight: bold\">│</span>\n",
       "<span style=\"color: #008000; text-decoration-color: #008000; font-weight: bold\">│</span> *   **Legacy &amp; Production:** It comes from Catena Zapata, which is widely regarded as *the* benchmark for       <span style=\"color: #008000; text-decoration-color: #008000; font-weight: bold\">│</span>\n",
       "<span style=\"color: #008000; text-decoration-color: #008000; font-weight: bold\">│</span> Malbec in Argentina. They're pioneers and innovators in the region.                                             <span style=\"color: #008000; text-decoration-color: #008000; font-weight: bold\">│</span>\n",
       "<span style=\"color: #008000; text-decoration-color: #008000; font-weight: bold\">│</span> *   **Age Potential:**  Even now, at 20 years old, it is considered to be a wine with an extremely long life    <span style=\"color: #008000; text-decoration-color: #008000; font-weight: bold\">│</span>\n",
       "<span style=\"color: #008000; text-decoration-color: #008000; font-weight: bold\">│</span> ahead.                                                                                                          <span style=\"color: #008000; text-decoration-color: #008000; font-weight: bold\">│</span>\n",
       "<span style=\"color: #008000; text-decoration-color: #008000; font-weight: bold\">│</span>                                                                                                                 <span style=\"color: #008000; text-decoration-color: #008000; font-weight: bold\">│</span>\n",
       "<span style=\"color: #008000; text-decoration-color: #008000; font-weight: bold\">│</span> **To help me narrow it down further and give you an even more tailored recommendation, could you tell me:**     <span style=\"color: #008000; text-decoration-color: #008000; font-weight: bold\">│</span>\n",
       "<span style=\"color: #008000; text-decoration-color: #008000; font-weight: bold\">│</span>                                                                                                                 <span style=\"color: #008000; text-decoration-color: #008000; font-weight: bold\">│</span>\n",
       "<span style=\"color: #008000; text-decoration-color: #008000; font-weight: bold\">│</span> 1.  **What's your budget?** (e.g., Under $30, $30-$60, $60+, no limit!)                                         <span style=\"color: #008000; text-decoration-color: #008000; font-weight: bold\">│</span>\n",
       "<span style=\"color: #008000; text-decoration-color: #008000; font-weight: bold\">│</span> 2.  **What kind of food are you planning to pair it with?** (e.g., Steak, pasta, grilled vegetables, spicy      <span style=\"color: #008000; text-decoration-color: #008000; font-weight: bold\">│</span>\n",
       "<span style=\"color: #008000; text-decoration-color: #008000; font-weight: bold\">│</span> dishes?)                                                                                                        <span style=\"color: #008000; text-decoration-color: #008000; font-weight: bold\">│</span>\n",
       "<span style=\"color: #008000; text-decoration-color: #008000; font-weight: bold\">│</span> 3.  **What are you generally looking for in a wine?** (e.g., Fruity and bold, elegant and balanced, complex and <span style=\"color: #008000; text-decoration-color: #008000; font-weight: bold\">│</span>\n",
       "<span style=\"color: #008000; text-decoration-color: #008000; font-weight: bold\">│</span> aged?)                                                                                                          <span style=\"color: #008000; text-decoration-color: #008000; font-weight: bold\">│</span>\n",
       "<span style=\"color: #008000; text-decoration-color: #008000; font-weight: bold\">│</span>                                                                                                                 <span style=\"color: #008000; text-decoration-color: #008000; font-weight: bold\">│</span>\n",
       "<span style=\"color: #008000; text-decoration-color: #008000; font-weight: bold\">╰─────────────────────────────────────────────────────────────────────────────────────────────────────────────────╯</span>\n",
       "</pre>\n"
      ],
      "text/plain": [
       "\u001b[1;32m╭─\u001b[0m\u001b[1;32m─────────────────────────────────────\u001b[0m\u001b[1;32m Wine Recommendation with Retrieval \u001b[0m\u001b[1;32m──────────────────────────────────────\u001b[0m\u001b[1;32m─╮\u001b[0m\n",
       "\u001b[1;32m│\u001b[0m                                                                                                                 \u001b[1;32m│\u001b[0m\n",
       "\u001b[1;32m│\u001b[0m                                                                                                                 \u001b[1;32m│\u001b[0m\n",
       "\u001b[1;32m│\u001b[0m                                                                                                                 \u001b[1;32m│\u001b[0m\n",
       "\u001b[1;32m│\u001b[0m Okay, let's find you an *amazing* Malbec from Argentina! Based on the information I have, I’m going to          \u001b[1;32m│\u001b[0m\n",
       "\u001b[1;32m│\u001b[0m recommend the **Catena Zapata Argentino Vineyard Malbec 2004**.                                                 \u001b[1;32m│\u001b[0m\n",
       "\u001b[1;32m│\u001b[0m                                                                                                                 \u001b[1;32m│\u001b[0m\n",
       "\u001b[1;32m│\u001b[0m Here’s why it’s a fantastic choice:                                                                             \u001b[1;32m│\u001b[0m\n",
       "\u001b[1;32m│\u001b[0m                                                                                                                 \u001b[1;32m│\u001b[0m\n",
       "\u001b[1;32m│\u001b[0m *   **Exceptional Rating:** It consistently receives a 98.0 rating, indicating it’s a truly top-tier wine.      \u001b[1;32m│\u001b[0m\n",
       "\u001b[1;32m│\u001b[0m *   **Complex Flavors:** It boasts a remarkably complex flavor profile, including notes of wood smoke,          \u001b[1;32m│\u001b[0m\n",
       "\u001b[1;32m│\u001b[0m creosote, pepper, clove, black cherry, and blackberry – creating a truly layered tasting experience.            \u001b[1;32m│\u001b[0m\n",
       "\u001b[1;32m│\u001b[0m *   **Legacy & Production:** It comes from Catena Zapata, which is widely regarded as *the* benchmark for       \u001b[1;32m│\u001b[0m\n",
       "\u001b[1;32m│\u001b[0m Malbec in Argentina. They're pioneers and innovators in the region.                                             \u001b[1;32m│\u001b[0m\n",
       "\u001b[1;32m│\u001b[0m *   **Age Potential:**  Even now, at 20 years old, it is considered to be a wine with an extremely long life    \u001b[1;32m│\u001b[0m\n",
       "\u001b[1;32m│\u001b[0m ahead.                                                                                                          \u001b[1;32m│\u001b[0m\n",
       "\u001b[1;32m│\u001b[0m                                                                                                                 \u001b[1;32m│\u001b[0m\n",
       "\u001b[1;32m│\u001b[0m **To help me narrow it down further and give you an even more tailored recommendation, could you tell me:**     \u001b[1;32m│\u001b[0m\n",
       "\u001b[1;32m│\u001b[0m                                                                                                                 \u001b[1;32m│\u001b[0m\n",
       "\u001b[1;32m│\u001b[0m 1.  **What's your budget?** (e.g., Under $30, $30-$60, $60+, no limit!)                                         \u001b[1;32m│\u001b[0m\n",
       "\u001b[1;32m│\u001b[0m 2.  **What kind of food are you planning to pair it with?** (e.g., Steak, pasta, grilled vegetables, spicy      \u001b[1;32m│\u001b[0m\n",
       "\u001b[1;32m│\u001b[0m dishes?)                                                                                                        \u001b[1;32m│\u001b[0m\n",
       "\u001b[1;32m│\u001b[0m 3.  **What are you generally looking for in a wine?** (e.g., Fruity and bold, elegant and balanced, complex and \u001b[1;32m│\u001b[0m\n",
       "\u001b[1;32m│\u001b[0m aged?)                                                                                                          \u001b[1;32m│\u001b[0m\n",
       "\u001b[1;32m│\u001b[0m                                                                                                                 \u001b[1;32m│\u001b[0m\n",
       "\u001b[1;32m╰─────────────────────────────────────────────────────────────────────────────────────────────────────────────────╯\u001b[0m\n"
      ]
     },
     "metadata": {},
     "output_type": "display_data"
    }
   ],
   "source": [
    "from ollama import chat\n",
    "from rich.panel import Panel\n",
    "\n",
    "response = chat(\n",
    "    model=\"gemma3:4b\",\n",
    "    messages=[\n",
    "        {\"role\": \"system\", \"content\": \"You are chatbot, a wine specialist. Your top priority is to help guide users into selecting amazing wine and guide them with their requests.\"},\n",
    "        {\"role\": \"user\", \"content\": user_prompt},\n",
    "        {\"role\": \"assistant\", \"content\": str(search_results)}\n",
    "    ],\n",
    "    stream=False\n",
    ")\n",
    "styled_panel = Panel(\n",
    "    response.message.content,\n",
    "    title=\"Wine Recommendation with Retrieval\",\n",
    "    expand=False,\n",
    "    border_style=\"bold green\",\n",
    "    padding=(1, 1)\n",
    ")\n",
    "\n",
    "console.print(styled_panel)"
   ]
  },
  {
   "cell_type": "code",
   "execution_count": null,
   "metadata": {},
   "outputs": [],
   "source": []
  }
 ],
 "metadata": {
  "kernelspec": {
   "display_name": "learn_llm",
   "language": "python",
   "name": "python3"
  },
  "language_info": {
   "codemirror_mode": {
    "name": "ipython",
    "version": 3
   },
   "file_extension": ".py",
   "mimetype": "text/x-python",
   "name": "python",
   "nbconvert_exporter": "python",
   "pygments_lexer": "ipython3",
   "version": "3.13.7"
  }
 },
 "nbformat": 4,
 "nbformat_minor": 2
}
